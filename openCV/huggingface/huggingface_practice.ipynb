{
 "cells": [
  {
   "cell_type": "code",
   "execution_count": 7,
   "metadata": {},
   "outputs": [
    {
     "name": "stdout",
     "output_type": "stream",
     "text": [
      "^C\n",
      "Note: you may need to restart the kernel to use updated packages.\n"
     ]
    }
   ],
   "source": [
    "%pip uninstall opencv-python"
   ]
  },
  {
   "cell_type": "code",
   "execution_count": 1,
   "metadata": {},
   "outputs": [
    {
     "name": "stdout",
     "output_type": "stream",
     "text": [
      "Collecting huggingface_hub\n",
      "  Downloading huggingface_hub-0.20.1-py3-none-any.whl (330 kB)\n",
      "     -------------------------------------- 330.1/330.1 kB 5.1 MB/s eta 0:00:00\n",
      "Collecting tqdm>=4.42.1\n",
      "  Downloading tqdm-4.66.1-py3-none-any.whl (78 kB)\n",
      "     ---------------------------------------- 78.3/78.3 kB ? eta 0:00:00\n",
      "Collecting fsspec>=2023.5.0\n",
      "  Downloading fsspec-2023.12.2-py3-none-any.whl (168 kB)\n",
      "     -------------------------------------- 169.0/169.0 kB 9.9 MB/s eta 0:00:00\n",
      "Collecting typing-extensions>=3.7.4.3\n",
      "  Downloading typing_extensions-4.9.0-py3-none-any.whl (32 kB)\n",
      "Requirement already satisfied: packaging>=20.9 in c:\\users\\ppjj2\\github\\data_analysis\\opencv\\huggingface\\.venv\\lib\\site-packages (from huggingface_hub) (23.2)\n",
      "Collecting pyyaml>=5.1\n",
      "  Downloading PyYAML-6.0.1-cp310-cp310-win_amd64.whl (145 kB)\n",
      "     -------------------------------------- 145.3/145.3 kB 4.4 MB/s eta 0:00:00\n",
      "Collecting requests\n",
      "  Downloading requests-2.31.0-py3-none-any.whl (62 kB)\n",
      "     ---------------------------------------- 62.6/62.6 kB ? eta 0:00:00\n",
      "Collecting filelock\n",
      "  Downloading filelock-3.13.1-py3-none-any.whl (11 kB)\n",
      "Requirement already satisfied: colorama in c:\\users\\ppjj2\\github\\data_analysis\\opencv\\huggingface\\.venv\\lib\\site-packages (from tqdm>=4.42.1->huggingface_hub) (0.4.6)\n",
      "Collecting idna<4,>=2.5\n",
      "  Downloading idna-3.6-py3-none-any.whl (61 kB)\n",
      "     ---------------------------------------- 61.6/61.6 kB ? eta 0:00:00\n",
      "Collecting charset-normalizer<4,>=2\n",
      "  Downloading charset_normalizer-3.3.2-cp310-cp310-win_amd64.whl (100 kB)\n",
      "     ---------------------------------------- 100.3/100.3 kB ? eta 0:00:00\n",
      "Collecting urllib3<3,>=1.21.1\n",
      "  Downloading urllib3-2.1.0-py3-none-any.whl (104 kB)\n",
      "     -------------------------------------- 104.6/104.6 kB 5.9 MB/s eta 0:00:00\n",
      "Collecting certifi>=2017.4.17\n",
      "  Downloading certifi-2023.11.17-py3-none-any.whl (162 kB)\n",
      "     -------------------------------------- 162.5/162.5 kB 9.5 MB/s eta 0:00:00\n",
      "Installing collected packages: urllib3, typing-extensions, tqdm, pyyaml, idna, fsspec, filelock, charset-normalizer, certifi, requests, huggingface_hub\n",
      "Successfully installed certifi-2023.11.17 charset-normalizer-3.3.2 filelock-3.13.1 fsspec-2023.12.2 huggingface_hub-0.20.1 idna-3.6 pyyaml-6.0.1 requests-2.31.0 tqdm-4.66.1 typing-extensions-4.9.0 urllib3-2.1.0\n",
      "Note: you may need to restart the kernel to use updated packages.\n"
     ]
    },
    {
     "name": "stderr",
     "output_type": "stream",
     "text": [
      "\n",
      "[notice] A new release of pip available: 22.3.1 -> 23.3.2\n",
      "[notice] To update, run: python.exe -m pip install --upgrade pip\n"
     ]
    },
    {
     "name": "stdout",
     "output_type": "stream",
     "text": [
      "Collecting ultralytics\n",
      "  Downloading ultralytics-8.0.228-py3-none-any.whl (661 kB)\n",
      "     -------------------------------------- 661.2/661.2 kB 8.3 MB/s eta 0:00:00\n",
      "Collecting torch>=1.8.0\n",
      "  Downloading torch-2.1.2-cp310-cp310-win_amd64.whl (192.3 MB)\n",
      "     -------------------------------------- 192.3/192.3 MB 4.1 MB/s eta 0:00:00\n",
      "Requirement already satisfied: opencv-python>=4.6.0 in c:\\users\\ppjj2\\github\\data_analysis\\opencv\\huggingface\\.venv\\lib\\site-packages (from ultralytics) (4.8.1.78)\n",
      "Requirement already satisfied: pyyaml>=5.3.1 in c:\\users\\ppjj2\\github\\data_analysis\\opencv\\huggingface\\.venv\\lib\\site-packages (from ultralytics) (6.0.1)\n",
      "Requirement already satisfied: tqdm>=4.64.0 in c:\\users\\ppjj2\\github\\data_analysis\\opencv\\huggingface\\.venv\\lib\\site-packages (from ultralytics) (4.66.1)\n",
      "Requirement already satisfied: requests>=2.23.0 in c:\\users\\ppjj2\\github\\data_analysis\\opencv\\huggingface\\.venv\\lib\\site-packages (from ultralytics) (2.31.0)\n",
      "Requirement already satisfied: psutil in c:\\users\\ppjj2\\github\\data_analysis\\opencv\\huggingface\\.venv\\lib\\site-packages (from ultralytics) (5.9.7)\n",
      "Collecting scipy>=1.4.1\n",
      "  Downloading scipy-1.11.4-cp310-cp310-win_amd64.whl (44.1 MB)\n",
      "     ---------------------------------------- 44.1/44.1 MB 4.8 MB/s eta 0:00:00\n",
      "Collecting matplotlib>=3.3.0\n",
      "  Downloading matplotlib-3.8.2-cp310-cp310-win_amd64.whl (7.6 MB)\n",
      "     ---------------------------------------- 7.6/7.6 MB 6.2 MB/s eta 0:00:00\n",
      "Collecting pandas>=1.1.4\n",
      "  Downloading pandas-2.1.4-cp310-cp310-win_amd64.whl (10.7 MB)\n",
      "     ---------------------------------------- 10.7/10.7 MB 5.5 MB/s eta 0:00:00\n",
      "Collecting pillow>=7.1.2\n",
      "  Downloading Pillow-10.1.0-cp310-cp310-win_amd64.whl (2.6 MB)\n",
      "     ---------------------------------------- 2.6/2.6 MB 5.5 MB/s eta 0:00:00\n",
      "Collecting py-cpuinfo\n",
      "  Downloading py_cpuinfo-9.0.0-py3-none-any.whl (22 kB)\n",
      "Collecting thop>=0.1.1\n",
      "  Downloading thop-0.1.1.post2209072238-py3-none-any.whl (15 kB)\n",
      "Requirement already satisfied: numpy>=1.22.2 in c:\\users\\ppjj2\\github\\data_analysis\\opencv\\huggingface\\.venv\\lib\\site-packages (from ultralytics) (1.26.2)\n",
      "Collecting torchvision>=0.9.0\n",
      "  Downloading torchvision-0.16.2-cp310-cp310-win_amd64.whl (1.1 MB)\n",
      "     ---------------------------------------- 1.1/1.1 MB 4.8 MB/s eta 0:00:00\n",
      "Collecting seaborn>=0.11.0\n",
      "  Downloading seaborn-0.13.0-py3-none-any.whl (294 kB)\n",
      "     -------------------------------------- 294.6/294.6 kB 9.2 MB/s eta 0:00:00\n",
      "Collecting pyparsing>=2.3.1\n",
      "  Downloading pyparsing-3.1.1-py3-none-any.whl (103 kB)\n",
      "     -------------------------------------- 103.1/103.1 kB 5.8 MB/s eta 0:00:00\n",
      "Requirement already satisfied: python-dateutil>=2.7 in c:\\users\\ppjj2\\github\\data_analysis\\opencv\\huggingface\\.venv\\lib\\site-packages (from matplotlib>=3.3.0->ultralytics) (2.8.2)\n",
      "Collecting contourpy>=1.0.1\n",
      "  Downloading contourpy-1.2.0-cp310-cp310-win_amd64.whl (186 kB)\n",
      "     -------------------------------------- 186.7/186.7 kB 5.7 MB/s eta 0:00:00\n",
      "Collecting cycler>=0.10\n",
      "  Downloading cycler-0.12.1-py3-none-any.whl (8.3 kB)\n",
      "Collecting kiwisolver>=1.3.1\n",
      "  Downloading kiwisolver-1.4.5-cp310-cp310-win_amd64.whl (56 kB)\n",
      "     ---------------------------------------- 56.1/56.1 kB 2.9 MB/s eta 0:00:00\n",
      "Requirement already satisfied: packaging>=20.0 in c:\\users\\ppjj2\\github\\data_analysis\\opencv\\huggingface\\.venv\\lib\\site-packages (from matplotlib>=3.3.0->ultralytics) (23.2)\n",
      "Collecting fonttools>=4.22.0\n",
      "  Downloading fonttools-4.47.0-cp310-cp310-win_amd64.whl (2.2 MB)\n",
      "     ---------------------------------------- 2.2/2.2 MB 4.8 MB/s eta 0:00:00\n",
      "Collecting pytz>=2020.1\n",
      "  Downloading pytz-2023.3.post1-py2.py3-none-any.whl (502 kB)\n",
      "     -------------------------------------- 502.5/502.5 kB 4.5 MB/s eta 0:00:00\n",
      "Collecting tzdata>=2022.1\n",
      "  Using cached tzdata-2023.3-py2.py3-none-any.whl (341 kB)\n",
      "Requirement already satisfied: charset-normalizer<4,>=2 in c:\\users\\ppjj2\\github\\data_analysis\\opencv\\huggingface\\.venv\\lib\\site-packages (from requests>=2.23.0->ultralytics) (3.3.2)\n",
      "Requirement already satisfied: certifi>=2017.4.17 in c:\\users\\ppjj2\\github\\data_analysis\\opencv\\huggingface\\.venv\\lib\\site-packages (from requests>=2.23.0->ultralytics) (2023.11.17)\n",
      "Requirement already satisfied: urllib3<3,>=1.21.1 in c:\\users\\ppjj2\\github\\data_analysis\\opencv\\huggingface\\.venv\\lib\\site-packages (from requests>=2.23.0->ultralytics) (2.1.0)\n",
      "Requirement already satisfied: idna<4,>=2.5 in c:\\users\\ppjj2\\github\\data_analysis\\opencv\\huggingface\\.venv\\lib\\site-packages (from requests>=2.23.0->ultralytics) (3.6)\n",
      "Requirement already satisfied: typing-extensions in c:\\users\\ppjj2\\github\\data_analysis\\opencv\\huggingface\\.venv\\lib\\site-packages (from torch>=1.8.0->ultralytics) (4.9.0)\n",
      "Collecting jinja2\n",
      "  Using cached Jinja2-3.1.2-py3-none-any.whl (133 kB)\n",
      "Collecting sympy\n",
      "  Using cached sympy-1.12-py3-none-any.whl (5.7 MB)\n",
      "Requirement already satisfied: filelock in c:\\users\\ppjj2\\github\\data_analysis\\opencv\\huggingface\\.venv\\lib\\site-packages (from torch>=1.8.0->ultralytics) (3.13.1)\n",
      "Collecting networkx\n",
      "  Downloading networkx-3.2.1-py3-none-any.whl (1.6 MB)\n",
      "     ---------------------------------------- 1.6/1.6 MB 5.5 MB/s eta 0:00:00\n",
      "Requirement already satisfied: fsspec in c:\\users\\ppjj2\\github\\data_analysis\\opencv\\huggingface\\.venv\\lib\\site-packages (from torch>=1.8.0->ultralytics) (2023.12.2)\n",
      "Requirement already satisfied: colorama in c:\\users\\ppjj2\\github\\data_analysis\\opencv\\huggingface\\.venv\\lib\\site-packages (from tqdm>=4.64.0->ultralytics) (0.4.6)\n",
      "Requirement already satisfied: six>=1.5 in c:\\users\\ppjj2\\github\\data_analysis\\opencv\\huggingface\\.venv\\lib\\site-packages (from python-dateutil>=2.7->matplotlib>=3.3.0->ultralytics) (1.16.0)\n",
      "Collecting MarkupSafe>=2.0\n",
      "  Downloading MarkupSafe-2.1.3-cp310-cp310-win_amd64.whl (17 kB)\n",
      "Collecting mpmath>=0.19\n",
      "  Using cached mpmath-1.3.0-py3-none-any.whl (536 kB)\n",
      "Installing collected packages: pytz, py-cpuinfo, mpmath, tzdata, sympy, scipy, pyparsing, pillow, networkx, MarkupSafe, kiwisolver, fonttools, cycler, contourpy, pandas, matplotlib, jinja2, torch, seaborn, torchvision, thop, ultralytics\n",
      "Successfully installed MarkupSafe-2.1.3 contourpy-1.2.0 cycler-0.12.1 fonttools-4.47.0 jinja2-3.1.2 kiwisolver-1.4.5 matplotlib-3.8.2 mpmath-1.3.0 networkx-3.2.1 pandas-2.1.4 pillow-10.1.0 py-cpuinfo-9.0.0 pyparsing-3.1.1 pytz-2023.3.post1 scipy-1.11.4 seaborn-0.13.0 sympy-1.12 thop-0.1.1.post2209072238 torch-2.1.2 torchvision-0.16.2 tzdata-2023.3 ultralytics-8.0.228\n",
      "Note: you may need to restart the kernel to use updated packages.\n"
     ]
    },
    {
     "name": "stderr",
     "output_type": "stream",
     "text": [
      "\n",
      "[notice] A new release of pip available: 22.3.1 -> 23.3.2\n",
      "[notice] To update, run: python.exe -m pip install --upgrade pip\n"
     ]
    },
    {
     "name": "stdout",
     "output_type": "stream",
     "text": [
      "Collecting supervision\n",
      "  Downloading supervision-0.17.1-py3-none-any.whl (77 kB)\n",
      "     ---------------------------------------- 77.5/77.5 kB 4.2 MB/s eta 0:00:00\n",
      "Requirement already satisfied: numpy>=1.21.2 in c:\\users\\ppjj2\\github\\data_analysis\\opencv\\huggingface\\.venv\\lib\\site-packages (from supervision) (1.26.2)\n",
      "Requirement already satisfied: scipy>=1.9.0 in c:\\users\\ppjj2\\github\\data_analysis\\opencv\\huggingface\\.venv\\lib\\site-packages (from supervision) (1.11.4)\n",
      "Collecting opencv-python-headless<=4.8.1.78,>=4.5.5.64\n",
      "  Downloading opencv_python_headless-4.8.1.78-cp37-abi3-win_amd64.whl (38.0 MB)\n",
      "     ---------------------------------------- 38.0/38.0 MB 7.0 MB/s eta 0:00:00\n",
      "Requirement already satisfied: pillow>=9.4 in c:\\users\\ppjj2\\github\\data_analysis\\opencv\\huggingface\\.venv\\lib\\site-packages (from supervision) (10.1.0)\n",
      "Requirement already satisfied: matplotlib>=3.5.0 in c:\\users\\ppjj2\\github\\data_analysis\\opencv\\huggingface\\.venv\\lib\\site-packages (from supervision) (3.8.2)\n",
      "Requirement already satisfied: pyyaml>=5.3 in c:\\users\\ppjj2\\github\\data_analysis\\opencv\\huggingface\\.venv\\lib\\site-packages (from supervision) (6.0.1)\n",
      "Requirement already satisfied: fonttools>=4.22.0 in c:\\users\\ppjj2\\github\\data_analysis\\opencv\\huggingface\\.venv\\lib\\site-packages (from matplotlib>=3.5.0->supervision) (4.47.0)\n",
      "Requirement already satisfied: pyparsing>=2.3.1 in c:\\users\\ppjj2\\github\\data_analysis\\opencv\\huggingface\\.venv\\lib\\site-packages (from matplotlib>=3.5.0->supervision) (3.1.1)\n",
      "Requirement already satisfied: python-dateutil>=2.7 in c:\\users\\ppjj2\\github\\data_analysis\\opencv\\huggingface\\.venv\\lib\\site-packages (from matplotlib>=3.5.0->supervision) (2.8.2)\n",
      "Requirement already satisfied: cycler>=0.10 in c:\\users\\ppjj2\\github\\data_analysis\\opencv\\huggingface\\.venv\\lib\\site-packages (from matplotlib>=3.5.0->supervision) (0.12.1)\n",
      "Requirement already satisfied: contourpy>=1.0.1 in c:\\users\\ppjj2\\github\\data_analysis\\opencv\\huggingface\\.venv\\lib\\site-packages (from matplotlib>=3.5.0->supervision) (1.2.0)\n",
      "Requirement already satisfied: packaging>=20.0 in c:\\users\\ppjj2\\github\\data_analysis\\opencv\\huggingface\\.venv\\lib\\site-packages (from matplotlib>=3.5.0->supervision) (23.2)\n",
      "Requirement already satisfied: kiwisolver>=1.3.1 in c:\\users\\ppjj2\\github\\data_analysis\\opencv\\huggingface\\.venv\\lib\\site-packages (from matplotlib>=3.5.0->supervision) (1.4.5)\n",
      "Requirement already satisfied: six>=1.5 in c:\\users\\ppjj2\\github\\data_analysis\\opencv\\huggingface\\.venv\\lib\\site-packages (from python-dateutil>=2.7->matplotlib>=3.5.0->supervision) (1.16.0)\n",
      "Installing collected packages: opencv-python-headless, supervision\n",
      "Successfully installed opencv-python-headless-4.8.1.78 supervision-0.17.1\n",
      "Note: you may need to restart the kernel to use updated packages.\n"
     ]
    },
    {
     "name": "stderr",
     "output_type": "stream",
     "text": [
      "\n",
      "[notice] A new release of pip available: 22.3.1 -> 23.3.2\n",
      "[notice] To update, run: python.exe -m pip install --upgrade pip\n"
     ]
    }
   ],
   "source": [
    "%pip install huggingface_hub\n",
    "%pip install ultralytics\n",
    "%pip install supervision"
   ]
  },
  {
   "cell_type": "code",
   "execution_count": 1,
   "metadata": {},
   "outputs": [
    {
     "name": "stderr",
     "output_type": "stream",
     "text": [
      "c:\\Users\\ppjj2\\github\\data_analysis\\openCV\\huggingface\\.venv\\lib\\site-packages\\tqdm\\auto.py:21: TqdmWarning: IProgress not found. Please update jupyter and ipywidgets. See https://ipywidgets.readthedocs.io/en/stable/user_install.html\n",
      "  from .autonotebook import tqdm as notebook_tqdm\n"
     ]
    },
    {
     "name": "stdout",
     "output_type": "stream",
     "text": [
      "\n",
      "0: 384x640 4 FACEs, 98.7ms\n",
      "Speed: 4.1ms preprocess, 98.7ms inference, 1.2ms postprocess per image at shape (1, 3, 384, 640)\n",
      "Detections(xyxy=array([[     208.46,      39.081,      252.49,      91.426],\n",
      "       [     452.25,      31.971,      491.56,      88.872],\n",
      "       [      344.6,      31.768,      382.15,       84.32],\n",
      "       [      102.6,      39.694,      143.53,      94.803]], dtype=float32), mask=None, confidence=array([    0.94266,     0.92773,     0.89175,       0.847], dtype=float32), class_id=array([0, 0, 0, 0]), tracker_id=None)\n"
     ]
    }
   ],
   "source": [
    "# load libraries\n",
    "from huggingface_hub import hf_hub_download\n",
    "from ultralytics import YOLO\n",
    "from supervision import Detections\n",
    "from PIL import Image\n",
    "\n",
    "# download model\n",
    "model_path = hf_hub_download(repo_id=\"arnabdhar/YOLOv8-Face-Detection\", filename=\"model.pt\")\n",
    "\n",
    "# load model\n",
    "model = YOLO(model_path)\n",
    "\n",
    "# inference\n",
    "image_path = \"black.jpg\"\n",
    "output = model(Image.open(image_path))\n",
    "results = Detections.from_ultralytics(output[0])\n",
    "print(results)\n"
   ]
  },
  {
   "cell_type": "code",
   "execution_count": 2,
   "metadata": {},
   "outputs": [
    {
     "name": "stdout",
     "output_type": "stream",
     "text": [
      "[[     208.46      39.081      252.49      91.426]\n",
      " [     452.25      31.971      491.56      88.872]\n",
      " [      344.6      31.768      382.15       84.32]\n",
      " [      102.6      39.694      143.53      94.803]]\n"
     ]
    }
   ],
   "source": [
    "print(results.xyxy)\n",
    "arr_int = results.xyxy.astype(int)"
   ]
  },
  {
   "cell_type": "code",
   "execution_count": 3,
   "metadata": {},
   "outputs": [],
   "source": [
    "import cv2\n",
    "\n",
    "src = cv2.imread('black.jpg')\n",
    "\n",
    "for x,y,x2,y2 in arr_int:\n",
    "    cv2.rectangle(src, (x,y),(x2,y2),(0,255,0),2)\n",
    "\n",
    "cv2.imshow(\"faces\", src)\n",
    "cv2.waitKey()\n",
    "cv2.destroyAllWindows()"
   ]
  }
 ],
 "metadata": {
  "kernelspec": {
   "display_name": ".venv",
   "language": "python",
   "name": "python3"
  },
  "language_info": {
   "codemirror_mode": {
    "name": "ipython",
    "version": 3
   },
   "file_extension": ".py",
   "mimetype": "text/x-python",
   "name": "python",
   "nbconvert_exporter": "python",
   "pygments_lexer": "ipython3",
   "version": "3.10.9"
  }
 },
 "nbformat": 4,
 "nbformat_minor": 2
}
