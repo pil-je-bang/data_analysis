{
 "cells": [
  {
   "cell_type": "code",
   "execution_count": 2,
   "metadata": {},
   "outputs": [
    {
     "name": "stdout",
     "output_type": "stream",
     "text": [
      "Running on local URL:  http://127.0.0.1:7861\n",
      "\n",
      "Could not create share link. Please check your internet connection or our status page: https://status.gradio.app.\n"
     ]
    },
    {
     "data": {
      "text/html": [
       "<div><iframe src=\"http://127.0.0.1:7861/\" width=\"100%\" height=\"500\" allow=\"autoplay; camera; microphone; clipboard-read; clipboard-write;\" frameborder=\"0\" allowfullscreen></iframe></div>"
      ],
      "text/plain": [
       "<IPython.core.display.HTML object>"
      ]
     },
     "metadata": {},
     "output_type": "display_data"
    }
   ],
   "source": [
    "import gradio as gr\n",
    "\n",
    "def greet(name):\n",
    "    return \"Hello \" + name + \"!\"\n",
    "\n",
    "demo = gr.Interface(fn=greet, inputs=\"textbox\", outputs=\"textbox\")\n",
    "    \n",
    "if __name__ == \"__main__\":\n",
    "    demo.launch(share = True)"
   ]
  },
  {
   "cell_type": "code",
   "execution_count": 5,
   "metadata": {},
   "outputs": [
    {
     "name": "stdout",
     "output_type": "stream",
     "text": [
      "\n",
      "0: 384x640 4 FACEs, 99.2ms\n",
      "Speed: 0.0ms preprocess, 99.2ms inference, 0.0ms postprocess per image at shape (1, 3, 384, 640)\n",
      "Detections(xyxy=array([[     208.46,      39.081,      252.49,      91.426],\n",
      "       [     452.25,      31.971,      491.56,      88.872],\n",
      "       [      344.6,      31.768,      382.15,       84.32],\n",
      "       [      102.6,      39.694,      143.53,      94.803]], dtype=float32), mask=None, confidence=array([    0.94266,     0.92773,     0.89175,       0.847], dtype=float32), class_id=array([0, 0, 0, 0]), tracker_id=None)\n"
     ]
    }
   ],
   "source": [
    "# load libraries\n",
    "from huggingface_hub import hf_hub_download\n",
    "from ultralytics import YOLO\n",
    "from supervision import Detections\n",
    "from PIL import Image\n",
    "\n",
    "# download model\n",
    "model_path = hf_hub_download(repo_id=\"arnabdhar/YOLOv8-Face-Detection\", filename=\"model.pt\")\n",
    "\n",
    "# load model\n",
    "model = YOLO(model_path)\n",
    "\n",
    "# inference\n",
    "image_path = \"black.jpg\"\n",
    "output = model(Image.open(image_path))\n",
    "results = Detections.from_ultralytics(output[0])\n",
    "print(results)"
   ]
  },
  {
   "cell_type": "code",
   "execution_count": 7,
   "metadata": {},
   "outputs": [
    {
     "name": "stdout",
     "output_type": "stream",
     "text": [
      "[[     208.46      39.081      252.49      91.426]\n",
      " [     452.25      31.971      491.56      88.872]\n",
      " [      344.6      31.768      382.15       84.32]\n",
      " [      102.6      39.694      143.53      94.803]]\n"
     ]
    }
   ],
   "source": [
    "print(results.xyxy)\n",
    "arr_int = results.xyxy.astype(int)"
   ]
  },
  {
   "cell_type": "code",
   "execution_count": 11,
   "metadata": {},
   "outputs": [],
   "source": [
    "import cv2\n",
    "\n",
    "src = cv2.imread('black.jpg')\n",
    "\n",
    "for x,y,x2,y2 in arr_int:\n",
    "    cv2.rectangle(src, (x,y),(x2,y2),(0,255,0),2)\n",
    "\n",
    "cv2.imshow(\"faces\", src)\n",
    "cv2.waitKey()\n",
    "cv2.destroyAllWindows()"
   ]
  },
  {
   "cell_type": "code",
   "execution_count": 4,
   "metadata": {},
   "outputs": [
    {
     "name": "stdout",
     "output_type": "stream",
     "text": [
      "Running on local URL:  http://127.0.0.1:7863\n",
      "\n",
      "To create a public link, set `share=True` in `launch()`.\n"
     ]
    },
    {
     "data": {
      "text/html": [
       "<div><iframe src=\"http://127.0.0.1:7863/\" width=\"100%\" height=\"500\" allow=\"autoplay; camera; microphone; clipboard-read; clipboard-write;\" frameborder=\"0\" allowfullscreen></iframe></div>"
      ],
      "text/plain": [
       "<IPython.core.display.HTML object>"
      ]
     },
     "metadata": {},
     "output_type": "display_data"
    },
    {
     "data": {
      "text/plain": []
     },
     "execution_count": 4,
     "metadata": {},
     "output_type": "execute_result"
    },
    {
     "name": "stderr",
     "output_type": "stream",
     "text": [
      "ERROR:    Exception in ASGI application\n",
      "Traceback (most recent call last):\n",
      "  File \"c:\\Users\\ppjj2\\github\\data_analysis\\openCV\\huggingface\\.venv\\lib\\site-packages\\uvicorn\\protocols\\http\\h11_impl.py\", line 408, in run_asgi\n",
      "    result = await app(  # type: ignore[func-returns-value]\n",
      "  File \"c:\\Users\\ppjj2\\github\\data_analysis\\openCV\\huggingface\\.venv\\lib\\site-packages\\uvicorn\\middleware\\proxy_headers.py\", line 84, in __call__\n",
      "    return await self.app(scope, receive, send)\n",
      "  File \"c:\\Users\\ppjj2\\github\\data_analysis\\openCV\\huggingface\\.venv\\lib\\site-packages\\fastapi\\applications.py\", line 1106, in __call__\n",
      "    await super().__call__(scope, receive, send)\n",
      "  File \"c:\\Users\\ppjj2\\github\\data_analysis\\openCV\\huggingface\\.venv\\lib\\site-packages\\starlette\\applications.py\", line 122, in __call__\n",
      "    await self.middleware_stack(scope, receive, send)\n",
      "  File \"c:\\Users\\ppjj2\\github\\data_analysis\\openCV\\huggingface\\.venv\\lib\\site-packages\\starlette\\middleware\\errors.py\", line 184, in __call__\n",
      "    raise exc\n",
      "  File \"c:\\Users\\ppjj2\\github\\data_analysis\\openCV\\huggingface\\.venv\\lib\\site-packages\\starlette\\middleware\\errors.py\", line 162, in __call__\n",
      "    await self.app(scope, receive, _send)\n",
      "  File \"c:\\Users\\ppjj2\\github\\data_analysis\\openCV\\huggingface\\.venv\\lib\\site-packages\\starlette\\middleware\\cors.py\", line 83, in __call__\n",
      "    await self.app(scope, receive, send)\n",
      "  File \"c:\\Users\\ppjj2\\github\\data_analysis\\openCV\\huggingface\\.venv\\lib\\site-packages\\starlette\\middleware\\exceptions.py\", line 79, in __call__\n",
      "    raise exc\n",
      "  File \"c:\\Users\\ppjj2\\github\\data_analysis\\openCV\\huggingface\\.venv\\lib\\site-packages\\starlette\\middleware\\exceptions.py\", line 68, in __call__\n",
      "    await self.app(scope, receive, sender)\n",
      "  File \"c:\\Users\\ppjj2\\github\\data_analysis\\openCV\\huggingface\\.venv\\lib\\site-packages\\fastapi\\middleware\\asyncexitstack.py\", line 20, in __call__\n",
      "    raise e\n",
      "  File \"c:\\Users\\ppjj2\\github\\data_analysis\\openCV\\huggingface\\.venv\\lib\\site-packages\\fastapi\\middleware\\asyncexitstack.py\", line 17, in __call__\n",
      "    await self.app(scope, receive, send)\n",
      "  File \"c:\\Users\\ppjj2\\github\\data_analysis\\openCV\\huggingface\\.venv\\lib\\site-packages\\starlette\\routing.py\", line 718, in __call__\n",
      "    await route.handle(scope, receive, send)\n",
      "  File \"c:\\Users\\ppjj2\\github\\data_analysis\\openCV\\huggingface\\.venv\\lib\\site-packages\\starlette\\routing.py\", line 276, in handle\n",
      "    await self.app(scope, receive, send)\n",
      "  File \"c:\\Users\\ppjj2\\github\\data_analysis\\openCV\\huggingface\\.venv\\lib\\site-packages\\starlette\\routing.py\", line 69, in app\n",
      "    await response(scope, receive, send)\n",
      "  File \"c:\\Users\\ppjj2\\github\\data_analysis\\openCV\\huggingface\\.venv\\lib\\site-packages\\starlette\\responses.py\", line 358, in __call__\n",
      "    await send(\n",
      "  File \"c:\\Users\\ppjj2\\github\\data_analysis\\openCV\\huggingface\\.venv\\lib\\site-packages\\starlette\\middleware\\exceptions.py\", line 65, in sender\n",
      "    await send(message)\n",
      "  File \"c:\\Users\\ppjj2\\github\\data_analysis\\openCV\\huggingface\\.venv\\lib\\site-packages\\starlette\\middleware\\errors.py\", line 159, in _send\n",
      "    await send(message)\n",
      "  File \"c:\\Users\\ppjj2\\github\\data_analysis\\openCV\\huggingface\\.venv\\lib\\site-packages\\uvicorn\\protocols\\http\\h11_impl.py\", line 505, in send\n",
      "    output = self.conn.send(event=h11.Data(data=data))\n",
      "  File \"c:\\Users\\ppjj2\\github\\data_analysis\\openCV\\huggingface\\.venv\\lib\\site-packages\\h11\\_connection.py\", line 512, in send\n",
      "    data_list = self.send_with_data_passthrough(event)\n",
      "  File \"c:\\Users\\ppjj2\\github\\data_analysis\\openCV\\huggingface\\.venv\\lib\\site-packages\\h11\\_connection.py\", line 545, in send_with_data_passthrough\n",
      "    writer(event, data_list.append)\n",
      "  File \"c:\\Users\\ppjj2\\github\\data_analysis\\openCV\\huggingface\\.venv\\lib\\site-packages\\h11\\_writers.py\", line 65, in __call__\n",
      "    self.send_data(event.data, write)\n",
      "  File \"c:\\Users\\ppjj2\\github\\data_analysis\\openCV\\huggingface\\.venv\\lib\\site-packages\\h11\\_writers.py\", line 91, in send_data\n",
      "    raise LocalProtocolError(\"Too much data for declared Content-Length\")\n",
      "h11._util.LocalProtocolError: Too much data for declared Content-Length\n"
     ]
    },
    {
     "name": "stdout",
     "output_type": "stream",
     "text": [
      "\n",
      "0: 384x640 4 FACEs, 211.0ms\n",
      "Speed: 12.0ms preprocess, 211.0ms inference, 2.1ms postprocess per image at shape (1, 3, 384, 640)\n",
      "\n",
      "0: 384x640 4 FACEs, 156.6ms\n",
      "Speed: 3.0ms preprocess, 156.6ms inference, 3.1ms postprocess per image at shape (1, 3, 384, 640)\n"
     ]
    }
   ],
   "source": [
    "# load libraries\n",
    "from huggingface_hub import hf_hub_download\n",
    "from ultralytics import YOLO\n",
    "from supervision import Detections\n",
    "import cv2\n",
    "import gradio as gr\n",
    "\n",
    "\n",
    "# download model\n",
    "model_path = hf_hub_download(repo_id=\"arnabdhar/YOLOv8-Face-Detection\", filename=\"model.pt\")\n",
    "\n",
    "# load model\n",
    "model = YOLO(model_path)\n",
    "\n",
    "def bounding(input_img):\n",
    "    output = model(input_img)\n",
    "    results = Detections.from_ultralytics(output[0])\n",
    "    arr_int = results.xyxy.astype(int)\n",
    "\n",
    "    for x,y,x2,y2 in arr_int:\n",
    "        cv2.rectangle(input_img, (x,y),(x2,y2),(0,255,0),2)\n",
    "    return input_img\n",
    "\n",
    "\n",
    "\n",
    "demo = gr.Interface(bounding, gr.Image(), \"image\")\n",
    "demo.launch()\n"
   ]
  }
 ],
 "metadata": {
  "kernelspec": {
   "display_name": ".venv",
   "language": "python",
   "name": "python3"
  },
  "language_info": {
   "codemirror_mode": {
    "name": "ipython",
    "version": 3
   },
   "file_extension": ".py",
   "mimetype": "text/x-python",
   "name": "python",
   "nbconvert_exporter": "python",
   "pygments_lexer": "ipython3",
   "version": "3.10.9"
  }
 },
 "nbformat": 4,
 "nbformat_minor": 2
}
