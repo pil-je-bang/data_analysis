{
 "cells": [
  {
   "cell_type": "code",
   "execution_count": 1,
   "metadata": {},
   "outputs": [],
   "source": [
    "import cv2\n",
    "\n",
    "src = cv2.imread(\"sun.jpg\", cv2.IMREAD_COLOR)\n",
    "gray = cv2.cvtColor(src, cv2.COLOR_BGR2GRAY)\n",
    "\n",
    "sobel = cv2.Sobel(gray, cv2.CV_8U, 1, 0, 3)\n",
    "laplacian = cv2.Laplacian(gray, cv2.CV_8U, ksize=3)\n",
    "canny = cv2.Canny(src, 10, 255)\n",
    "\n",
    "cv2.imshow(\"sobel\", sobel)\n",
    "cv2.imshow(\"laplacian\", laplacian)\n",
    "cv2.imshow(\"canny\", canny)\n",
    "cv2.waitKey()\n",
    "cv2.destroyAllWindows()"
   ]
  },
  {
   "cell_type": "code",
   "execution_count": 3,
   "metadata": {},
   "outputs": [],
   "source": [
    "import cv2\n",
    "\n",
    "src = cv2.imread(\"sun.jpg\", cv2.IMREAD_COLOR)\n",
    "dst = cv2.blur(src, (2, 2), anchor=(-1, -1), borderType=cv2.BORDER_DEFAULT)\n",
    "\n",
    "cv2.imshow(\"src\", src)\n",
    "cv2.imshow(\"dst\", dst)\n",
    "cv2.waitKey()\n",
    "cv2.destroyAllWindows()"
   ]
  },
  {
   "cell_type": "code",
   "execution_count": 9,
   "metadata": {},
   "outputs": [],
   "source": [
    "# 캠에 블러\n",
    "capture = cv2.VideoCapture(0)\n",
    "# capture.set(cv2.CAP_PROP_FRAME_WIDTH, 640)\n",
    "# capture.set(cv2.CAP_PROP_FRAME_HEIGHT, 480)\n",
    "\n",
    "while cv2.waitKey(10) < 0:\n",
    "    ret, frame = capture.read()\n",
    "    \n",
    "    dst = cv2.blur(frame, (10, 10), anchor=(-1, -1), borderType=cv2.BORDER_DEFAULT)\n",
    "    cv2.imshow(\"VideoFrame\", dst)\n",
    "\n",
    "capture.release()\n",
    "cv2.destroyAllWindows()"
   ]
  },
  {
   "cell_type": "code",
   "execution_count": 12,
   "metadata": {},
   "outputs": [],
   "source": [
    "#캠에 캐니\n",
    "capture = cv2.VideoCapture(0)\n",
    "# capture.set(cv2.CAP_PROP_FRAME_WIDTH, 640)\n",
    "# capture.set(cv2.CAP_PROP_FRAME_HEIGHT, 480)\n",
    "\n",
    "while cv2.waitKey(10) < 0:\n",
    "    ret, frame = capture.read()\n",
    "    \n",
    "    canny = cv2.Canny(frame, 50, 200)\n",
    "    cv2.imshow(\"VideoFrame\", canny)\n",
    "\n",
    "capture.release()\n",
    "cv2.destroyAllWindows()"
   ]
  },
  {
   "cell_type": "code",
   "execution_count": 3,
   "metadata": {},
   "outputs": [],
   "source": [
    "capture = cv2.VideoCapture(0)\n",
    "# capture.set(cv2.CAP_PROP_FRAME_WIDTH, 640)\n",
    "# capture.set(cv2.CAP_PROP_FRAME_HEIGHT, 480)\n",
    "src = cv2.imread(\"sun.jpg\", cv2.IMREAD_COLOR)\n",
    "\n",
    "\n",
    "while cv2.waitKey(10) < 0:\n",
    "    ret, frame = capture.read()\n",
    "    src = cv2.resize(src, (frame.shape[1], frame.shape[0]))\n",
    "    combined = cv2.addWeighted(frame, 0.2, src, 0.8, 0)\n",
    "    cv2.imshow(\"VideoFrame\", combined)\n",
    "\n",
    "capture.release()\n",
    "cv2.destroyAllWindows()"
   ]
  },
  {
   "cell_type": "code",
   "execution_count": 5,
   "metadata": {},
   "outputs": [],
   "source": [
    "import cv2\n",
    "import numpy as np\n",
    "\n",
    "src = np.zeros((768, 1366, 3), dtype=np.uint8)\n",
    "\n",
    "src = cv2.line(src, (100, 100), (1200, 100), (0, 0, 255), 3, cv2.LINE_AA)\n",
    "src = cv2.line(src, (100, 150), (1200, 150), (0, 255, 255), 3, cv2.LINE_4)\n",
    "\n",
    "src = cv2.circle(src, (300, 300), 50, (0, 255, 0), cv2.FILLED, cv2.LINE_4)\n",
    "src = cv2.rectangle(src, (500, 200), (1000, 400), (255, 0, 0), 5, cv2.LINE_8)\n",
    "src = cv2.ellipse(src, (1200, 300), (100, 50), 0, 90, 180, (255, 255, 0), 2)\n",
    "\n",
    "pts1 = np.array([[100, 500], [300, 500], [200, 600]])\n",
    "pts2 = np.array([[600, 500], [800, 500], [700, 600]])\n",
    "src = cv2.polylines(src, [pts1], True, (0, 255, 255), 2)\n",
    "src = cv2.fillPoly(src, [pts2], (255, 0, 255), cv2.LINE_AA)\n",
    "\n",
    "src = cv2.putText(src, \"Hi,OpenCV\", (900, 600), cv2.FONT_HERSHEY_COMPLEX, 2, (255, 255, 255), 3)\n",
    "\n",
    "cv2.imshow(\"src\", src)\n",
    "cv2.waitKey()\n",
    "cv2.destroyAllWindows()"
   ]
  },
  {
   "cell_type": "code",
   "execution_count": 6,
   "metadata": {},
   "outputs": [],
   "source": [
    "import cv2\n",
    "import numpy as np\n",
    "\n",
    "img = np.zeros(shape = (512, 512, 3), dtype = np.uint8) + 255\n",
    "\n",
    "x1, x2 = 100, 400\n",
    "y1, y2 = 100, 400\n",
    "cv2.rectangle(img, (x1, y1), (x2, y2), (0, 0, 255))\n",
    "\n",
    "pt1 = 120, 50\n",
    "pt2 = 300, 500\n",
    "cv2.line(img, pt1, pt2, (255, 0, 0), 2)\n",
    "\n",
    "imgRect = (x1, y1, x2-x1, y2-y1)\n",
    "retval, rpt1, rpt2 = cv2.clipLine(imgRect, pt1, pt2)\n",
    "if retval:\n",
    "    cv2.circle(img, rpt1, radius=5, color = (0, 255, 0),thickness=-1)\n",
    "    cv2.circle(img, rpt2, radius=5, color=(0, 255, 0), thickness=-1)\n",
    "\n",
    "cv2.imshow('img',img)\n",
    "cv2.waitKey()\n",
    "cv2.destroyAllWindows()"
   ]
  }
 ],
 "metadata": {
  "kernelspec": {
   "display_name": "base",
   "language": "python",
   "name": "python3"
  },
  "language_info": {
   "codemirror_mode": {
    "name": "ipython",
    "version": 3
   },
   "file_extension": ".py",
   "mimetype": "text/x-python",
   "name": "python",
   "nbconvert_exporter": "python",
   "pygments_lexer": "ipython3",
   "version": "3.10.9"
  }
 },
 "nbformat": 4,
 "nbformat_minor": 2
}
