{
 "cells": [
  {
   "cell_type": "code",
   "execution_count": 2,
   "metadata": {},
   "outputs": [],
   "source": [
    "import cv2"
   ]
  },
  {
   "cell_type": "code",
   "execution_count": 20,
   "metadata": {},
   "outputs": [],
   "source": [
    "cv2.namedWindow('window test')\n",
    "cv2.waitKey()\n",
    "cv2.destroyAllWindows()"
   ]
  },
  {
   "cell_type": "code",
   "execution_count": 15,
   "metadata": {},
   "outputs": [],
   "source": [
    "cv2.namedWindow('window test', cv2.WINDOW_NORMAL)\n",
    "cv2.waitKey()\n",
    "cv2.destroyAllWindows()"
   ]
  },
  {
   "cell_type": "code",
   "execution_count": 29,
   "metadata": {},
   "outputs": [],
   "source": [
    "src = cv2.imread(\"sun.jpg\")\n",
    "\n",
    "cv2.imshow(\"src\", src)\n",
    "cv2.waitKey(1000)\n",
    "cv2.destroyAllWindows()"
   ]
  },
  {
   "cell_type": "code",
   "execution_count": 31,
   "metadata": {},
   "outputs": [
    {
     "name": "stdout",
     "output_type": "stream",
     "text": [
      "s\n",
      "q\n"
     ]
    }
   ],
   "source": [
    "src = cv2.imread(\"sun.jpg\")\n",
    "while True:\n",
    "    cv2.imshow(\"src\", src)\n",
    "    key = cv2.waitKey()\n",
    "    print(chr(key))\n",
    "    if key == ord('q'):\n",
    "        break\n",
    "cv2.destroyAllWindows()"
   ]
  },
  {
   "cell_type": "code",
   "execution_count": 32,
   "metadata": {},
   "outputs": [],
   "source": [
    "capture = cv2.VideoCapture(0)\n",
    "# capture.set(cv2.CAP_PROP_FRAME_WIDTH, 640)\n",
    "# capture.set(cv2.CAP_PROP_FRAME_HEIGHT, 480)\n",
    "\n",
    "while cv2.waitKey(10) < 0:\n",
    "    ret, frame = capture.read()\n",
    "    cv2.imshow(\"VideoFrame\", frame)\n",
    "\n",
    "capture.release()\n",
    "cv2.destroyAllWindows()"
   ]
  },
  {
   "cell_type": "code",
   "execution_count": 40,
   "metadata": {},
   "outputs": [
    {
     "name": "stdout",
     "output_type": "stream",
     "text": [
      "fps 23.976023976023978\n",
      "total_frame 4390.0\n"
     ]
    }
   ],
   "source": [
    "capture = cv2.VideoCapture('sample_1280x720_surfing_with_audio.avi')\n",
    "fps = capture.get(cv2.CAP_PROP_FPS)\n",
    "print('fps', fps)\n",
    "total_frame = capture.get(cv2.CAP_PROP_FRAME_COUNT)\n",
    "print('total_frame', total_frame)\n",
    "fps = 144\n",
    "\n",
    "while cv2.waitKey(int(1000.0//fps)) < 0:\n",
    "    if capture.get(cv2.CAP_PROP_POS_FRAMES) == total_frame-1:\n",
    "        capture.set(cv2.CAP_PROP_POS_FRAMES, 0)\n",
    "\n",
    "    ret, frame = capture.read()\n",
    "    cv2.imshow('VideoFrame', frame)\n",
    "\n",
    "capture.release()\n",
    "cv2.destroyAllWindows()"
   ]
  },
  {
   "cell_type": "code",
   "execution_count": 50,
   "metadata": {},
   "outputs": [],
   "source": [
    "capture = cv2.VideoCapture(0)\n",
    "capture.set(cv2.CAP_PROP_FRAME_WIDTH, 640)\n",
    "capture.set(cv2.CAP_PROP_FRAME_HEIGHT, 450)\n",
    "\n",
    "while cv2.waitKey(1000) < 0:\n",
    "    ret, frame = capture.read()\n",
    "    cv2.imshow(\"VideoFrame\", frame)\n",
    "\n",
    "capture.release()\n",
    "cv2.destroyAllWindows()"
   ]
  },
  {
   "cell_type": "code",
   "execution_count": 53,
   "metadata": {},
   "outputs": [],
   "source": [
    "src = cv2.imread(\"sun.jpg\")\n",
    "dst = cv2.flip(src, 1)\n",
    "\n",
    "cv2.imshow(\"src\", src)\n",
    "cv2.imshow(\"dst\", dst)\n",
    "cv2.waitKey()\n",
    "cv2.destroyAllWindows()"
   ]
  },
  {
   "cell_type": "code",
   "execution_count": null,
   "metadata": {},
   "outputs": [],
   "source": [
    "import cv2\n",
    "\n",
    "src = cv2.imread(\"sun.jpg\")\n",
    "\n",
    "# 이미지가 제대로 읽어졌는지 확인\n",
    "if src is None:\n",
    "    print(\"이미지를 읽을 수 없습니다.\")\n",
    "else:\n",
    "    height, width, channel = src.shape\n",
    "\n",
    "    # 확대\n",
    "    dst = cv2.pyrUp(src, dstsize=(width*2, height*2), borderType=cv2.BORDER_DEFAULT)\n",
    "\n",
    "    # 축소\n",
    "    dst2 = cv2.pyrDown(src, dstsize=(width//2, height//2), borderType=cv2.BORDER_DEFAULT)\n",
    "\n",
    "    # 결과를 확인\n",
    "    cv2.imshow(\"src\", src)\n",
    "    cv2.imshow(\"dst\", dst)\n",
    "    cv2.imshow(\"dst2\", dst2)\n",
    "    cv2.waitKey(0)\n",
    "    cv2.destroyAllWindows()"
   ]
  },
  {
   "cell_type": "code",
   "execution_count": 30,
   "metadata": {},
   "outputs": [],
   "source": [
    "src = cv2.imread(\"sun.jpg\")\n",
    "\n",
    "dst2 = cv2.pyrDown(src, dstsize=(width//2, height//2), borderType=cv2.BORDER_DEFAULT)\n",
    "\n",
    "dst = cv2.flip(dst2, 1)\n",
    "\n",
    "src_copy = src.copy()\n",
    "roi = dst\n",
    "src_copy[500:1000, 1000:2000] = roi\n",
    "\n",
    "\n",
    "cv2.imshow(\"dst\", dst)\n",
    "cv2.imshow(\"src_copy\", src_copy)\n",
    "\n",
    "\n",
    "cv2.waitKey(0)\n",
    "cv2.destroyAllWindows()"
   ]
  },
  {
   "cell_type": "code",
   "execution_count": 28,
   "metadata": {},
   "outputs": [
    {
     "name": "stdout",
     "output_type": "stream",
     "text": [
      "(1000, 2000, 3)\n"
     ]
    }
   ],
   "source": [
    "print(src_copy.shape)"
   ]
  },
  {
   "cell_type": "code",
   "execution_count": 4,
   "metadata": {},
   "outputs": [],
   "source": [
    "src = cv2.imread(\"sun.jpg\")\n",
    "gray = cv2.cvtColor(src, code = cv2.COLOR_BGR2GRAY)\n",
    "\n",
    "cv2.imshow(\"gray\", gray)\n",
    "threshold_value, gray_threshold = cv2.threshold(gray, thresh=130, maxval=255, type=cv2.THRESH_BINARY)\n",
    "cv2.imshow(\"gray_threshold\", gray_threshold)\n",
    "\n",
    "cv2.waitKey(0)\n",
    "cv2.destroyAllWindows()"
   ]
  }
 ],
 "metadata": {
  "kernelspec": {
   "display_name": "base",
   "language": "python",
   "name": "python3"
  },
  "language_info": {
   "codemirror_mode": {
    "name": "ipython",
    "version": 3
   },
   "file_extension": ".py",
   "mimetype": "text/x-python",
   "name": "python",
   "nbconvert_exporter": "python",
   "pygments_lexer": "ipython3",
   "version": "3.10.9"
  }
 },
 "nbformat": 4,
 "nbformat_minor": 2
}
